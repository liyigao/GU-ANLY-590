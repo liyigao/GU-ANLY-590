{
  "nbformat": 4,
  "nbformat_minor": 0,
  "metadata": {
    "colab": {
      "name": "Assignment 2.ipynb",
      "version": "0.3.2",
      "provenance": []
    },
    "kernelspec": {
      "display_name": "Python 3",
      "language": "python",
      "name": "python3"
    }
  },
  "cells": [
    {
      "metadata": {
        "id": "_8y9x2C0552T",
        "colab_type": "text"
      },
      "cell_type": "markdown",
      "source": [
        "*Yigao Li*  \n",
        "*Nov 15, 2018*"
      ]
    },
    {
      "metadata": {
        "id": "m5McwIJ7552V",
        "colab_type": "code",
        "colab": {
          "base_uri": "https://localhost:8080/",
          "height": 35
        },
        "outputId": "1edc5eed-8221-4fe7-8f42-9b09b6ccd041"
      },
      "cell_type": "code",
      "source": [
        "## packages for this assignment\n",
        "from keras.datasets import fashion_mnist\n",
        "from keras.layers import Input, Conv2D, MaxPooling2D, UpSampling2D, Dense, Flatten, GRU, Embedding, Conv1D, MaxPooling1D\n",
        "from keras.layers.normalization import BatchNormalization\n",
        "from keras.models import Model, Sequential\n",
        "from keras.utils import to_categorical\n",
        "from keras.applications import VGG16\n",
        "from keras.applications.vgg16 import preprocess_input\n",
        "from keras.preprocessing.image import img_to_array, array_to_img\n",
        "from keras.preprocessing.text import Tokenizer, text_to_word_sequence\n",
        "from keras.optimizers import Adam\n",
        "import numpy as np\n",
        "import pandas as pd\n",
        "import matplotlib.pyplot as plt\n",
        "from sklearn.model_selection import train_test_split\n",
        "from sklearn.metrics import roc_curve, auc\n",
        "import requests\n",
        "import matplotlib.pyplot as plt\n",
        "import cv2"
      ],
      "execution_count": 1,
      "outputs": [
        {
          "output_type": "stream",
          "text": [
            "Using TensorFlow backend.\n"
          ],
          "name": "stderr"
        }
      ]
    },
    {
      "metadata": {
        "id": "a7Al5MJ4552a",
        "colab_type": "text"
      },
      "cell_type": "markdown",
      "source": [
        "# Autoencoder"
      ]
    },
    {
      "metadata": {
        "id": "Feuq2mjg552a",
        "colab_type": "code",
        "colab": {}
      },
      "cell_type": "code",
      "source": [
        "(x_train, y_train), (x_test, y_test) = fashion_mnist.load_data()\n",
        "# data normalization\n",
        "x_train = x_train.astype(\"float32\")/255\n",
        "x_test = x_test.astype(\"float32\")/255\n",
        "x_train = x_train.reshape(-1,28,28,1)\n",
        "x_test = x_test.reshape(-1,28,28,1)\n",
        "x_train, x_valid, y_train, y_valid = train_test_split(x_train, y_train, test_size = 0.2, random_state = 645)\n",
        "y_train = to_categorical(y_train, 10)\n",
        "y_valid = to_categorical(y_valid, 10)\n",
        "y_test = to_categorical(y_test, 10)\n",
        "batch_size = 64\n",
        "epochs = 3\n",
        "inChannel = 1\n",
        "x, y = 28, 28\n",
        "input_img = Input(shape = (x, y, inChannel))\n",
        "num_classes = 10"
      ],
      "execution_count": 0,
      "outputs": []
    },
    {
      "metadata": {
        "id": "v-T_-dzu552d",
        "colab_type": "code",
        "colab": {},
        "outputId": "f9258ded-113b-4d5b-ea83-075929992657"
      },
      "cell_type": "code",
      "source": [
        "def encoder(input_img):\n",
        "    # input 28*28*1\n",
        "    conv1 = Conv2D(16, (3, 3), activation = \"relu\", padding = \"same\")(input_img) #28*28*32\n",
        "    conv1 = BatchNormalization()(conv1)\n",
        "    conv1 = Conv2D(16, (3, 3), activation = \"relu\", padding = \"same\")(conv1)\n",
        "    conv1 = BatchNormalization()(conv1)\n",
        "    pool1 = MaxPooling2D(pool_size = (2, 2))(conv1) #14*14*32\n",
        "    conv2 = Conv2D(8, (3, 3), activation = \"relu\", padding = \"same\")(pool1)\n",
        "    conv2 = BatchNormalization()(conv2)\n",
        "    conv2 = Conv2D(8, (3, 3), activation = \"relu\", padding = \"same\")(conv2)\n",
        "    conv2 = BatchNormalization()(conv2)\n",
        "    pool2 = MaxPooling2D(pool_size = (2, 2))(conv2) #7*7*64\n",
        "    conv3 = Conv2D(4, (3, 3), activation = \"relu\", padding = \"same\")(pool2) #7*7*128\n",
        "    conv3 = BatchNormalization()(conv3)\n",
        "    conv3 = Conv2D(4, (3, 3), activation = \"relu\", padding = \"same\")(conv3)\n",
        "    conv3 = BatchNormalization()(conv3)\n",
        "    conv4 = Conv2D(2, (3, 3), activation = \"relu\", padding = \"same\")(conv3) #7*7*256\n",
        "    conv4 = BatchNormalization()(conv4)\n",
        "    conv4 = Conv2D(2, (3, 3), activation = \"relu\", padding = \"same\")(conv4)\n",
        "    representation = BatchNormalization()(conv4)\n",
        "    return representation\n",
        "    \n",
        "def decoder(compressed):\n",
        "    conv5 = Conv2D(4, (3, 3), activation = \"relu\", padding = \"same\")(compressed) #7*7*128\n",
        "    conv5 = BatchNormalization()(conv5)\n",
        "    conv5 = Conv2D(4, (3, 3), activation = \"relu\", padding = \"same\")(conv5)\n",
        "    conv5 = BatchNormalization()(conv5)\n",
        "    conv6 = Conv2D(8, (3, 3), activation = \"relu\", padding = \"same\")(conv5) #7*7*64\n",
        "    conv6 = BatchNormalization()(conv6)\n",
        "    conv6 = Conv2D(8, (3, 3), activation = \"relu\", padding = \"same\")(conv6)\n",
        "    conv6 = BatchNormalization()(conv6)\n",
        "    up1 = UpSampling2D(size = (2, 2))(conv6) #14*14*64\n",
        "    conv7 = Conv2D(16, (3, 3), activation = \"relu\", padding = \"same\")(up1)\n",
        "    conv7 = BatchNormalization()(conv7)\n",
        "    conv7 = Conv2D(16, (3, 3), activation = \"relu\", padding = \"same\")(conv7)\n",
        "    conv7 = BatchNormalization()(conv7)\n",
        "    up2 = UpSampling2D(size = (2, 2))(conv7) #28*28*32\n",
        "    reconstruction = Conv2D(1, (3, 3), activation = \"sigmoid\", padding = \"same\")(up2) #28*28*1\n",
        "    return reconstruction\n",
        "\n",
        "autoencoder_conv = Model(input_img, decoder(encoder(input_img)))\n",
        "autoencoder_conv.compile(loss = \"mean_squared_error\", optimizer = \"adadelta\")\n",
        "autoencoder_conv.fit(x_train, x_train, epochs = epochs, batch_size = batch_size, validation_data = (x_valid, x_valid))"
      ],
      "execution_count": 0,
      "outputs": [
        {
          "output_type": "stream",
          "text": [
            "Train on 48000 samples, validate on 12000 samples\n",
            "Epoch 1/3\n",
            "48000/48000 [==============================] - 258s 5ms/step - loss: 0.0447 - val_loss: 0.0288\n",
            "Epoch 2/3\n",
            "48000/48000 [==============================] - 254s 5ms/step - loss: 0.0256 - val_loss: 0.0240\n",
            "Epoch 3/3\n",
            "48000/48000 [==============================] - 254s 5ms/step - loss: 0.0219 - val_loss: 0.0199\n"
          ],
          "name": "stdout"
        },
        {
          "output_type": "execute_result",
          "data": {
            "text/plain": [
              "<keras.callbacks.History at 0x19900fa76d8>"
            ]
          },
          "metadata": {
            "tags": []
          },
          "execution_count": 2
        }
      ]
    },
    {
      "metadata": {
        "id": "MiqzDff3552h",
        "colab_type": "code",
        "colab": {},
        "outputId": "3df88851-65a6-4867-fb24-747eecc418dd"
      },
      "cell_type": "code",
      "source": [
        "num_list = [45686, 13291, 47724, 26419, 35937]\n",
        "for i in range(len(num_list)):\n",
        "    k = num_list[i]\n",
        "    ax = plt.subplot(2, len(num_list), i+1)\n",
        "    plt.imshow(x_train[k:k+1,:].reshape((28,28)))\n",
        "    ax = plt.subplot(2, len(num_list), i+1+len(num_list))\n",
        "    reconstruction = autoencoder_conv.predict(x_train[k:k+1,:])\n",
        "    reconstruction.resize((28,28))\n",
        "    plt.imshow(reconstruction)\n",
        "plt.show()"
      ],
      "execution_count": 0,
      "outputs": [
        {
          "output_type": "display_data",
          "data": {
            "image/png": "[encoded data removed]",
            "text/plain": [
              "<Figure size 432x288 with 10 Axes>"
            ]
          },
          "metadata": {
            "tags": []
          }
        }
      ]
    },
    {
      "metadata": {
        "collapsed": true,
        "id": "DRTmfUUU552j",
        "colab_type": "text"
      },
      "cell_type": "markdown",
      "source": [
        "# Image Classification"
      ]
    },
    {
      "metadata": {
        "id": "C_WE6uWM552k",
        "colab_type": "text"
      },
      "cell_type": "markdown",
      "source": [
        "## Deep CNN"
      ]
    },
    {
      "metadata": {
        "id": "s1Y-t71x552l",
        "colab_type": "code",
        "colab": {}
      },
      "cell_type": "code",
      "source": [
        "model = Sequential()\n",
        "model.add(Conv2D(32, (3, 3), activation = \"relu\", padding = \"valid\", input_shape = (28, 28, 1))) #strides=1 by default\n",
        "model.add(MaxPooling2D((2, 2)))\n",
        "model.add(Conv2D(64, (3, 3), activation = \"relu\", padding = \"valid\"))\n",
        "model.add(MaxPooling2D((2, 2)))\n",
        "model.add(Conv2D(128, (3, 3), activation = \"relu\", padding = \"valid\"))\n",
        "model.add(Flatten())\n",
        "model.add(Dense(128, activation = \"relu\"))\n",
        "model.add(Dense(num_classes, activation = \"softmax\"))\n",
        "model.compile(loss = \"categorical_crossentropy\", optimizer = \"adadelta\", metrics = [\"accuracy\"])"
      ],
      "execution_count": 0,
      "outputs": []
    },
    {
      "metadata": {
        "id": "xz4hjNPl552n",
        "colab_type": "code",
        "colab": {},
        "outputId": "d11aff70-26b0-4e2d-d5ae-bf576da5ed61"
      },
      "cell_type": "code",
      "source": [
        "model.summary()"
      ],
      "execution_count": 0,
      "outputs": [
        {
          "output_type": "stream",
          "text": [
            "_________________________________________________________________\n",
            "Layer (type)                 Output Shape              Param #   \n",
            "=================================================================\n",
            "conv2d_16 (Conv2D)           (None, 26, 26, 32)        320       \n",
            "_________________________________________________________________\n",
            "max_pooling2d_3 (MaxPooling2 (None, 13, 13, 32)        0         \n",
            "_________________________________________________________________\n",
            "conv2d_17 (Conv2D)           (None, 11, 11, 64)        18496     \n",
            "_________________________________________________________________\n",
            "max_pooling2d_4 (MaxPooling2 (None, 5, 5, 64)          0         \n",
            "_________________________________________________________________\n",
            "conv2d_18 (Conv2D)           (None, 3, 3, 128)         73856     \n",
            "_________________________________________________________________\n",
            "flatten_1 (Flatten)          (None, 1152)              0         \n",
            "_________________________________________________________________\n",
            "dense_1 (Dense)              (None, 128)               147584    \n",
            "_________________________________________________________________\n",
            "dense_2 (Dense)              (None, 10)                1290      \n",
            "=================================================================\n",
            "Total params: 241,546\n",
            "Trainable params: 241,546\n",
            "Non-trainable params: 0\n",
            "_________________________________________________________________\n"
          ],
          "name": "stdout"
        }
      ]
    },
    {
      "metadata": {
        "id": "0c8b7ywQ552s",
        "colab_type": "code",
        "colab": {},
        "outputId": "aee08372-8755-4fd3-f493-6a354c76ee3c"
      },
      "cell_type": "code",
      "source": [
        "train_model = model.fit(x_train, y_train, epochs = 10, batch_size = batch_size, verbose = 1, validation_data = (x_valid, y_valid))"
      ],
      "execution_count": 0,
      "outputs": [
        {
          "output_type": "stream",
          "text": [
            "Train on 48000 samples, validate on 12000 samples\n",
            "Epoch 1/10\n",
            "48000/48000 [==============================] - 43s 895us/step - loss: 0.4247 - acc: 0.8437 - val_loss: 0.3764 - val_acc: 0.8598\n",
            "Epoch 2/10\n",
            "48000/48000 [==============================] - 45s 930us/step - loss: 0.3230 - acc: 0.8812 - val_loss: 0.3170 - val_acc: 0.8872\n",
            "Epoch 3/10\n",
            "48000/48000 [==============================] - 36s 759us/step - loss: 0.2808 - acc: 0.8957 - val_loss: 0.2939 - val_acc: 0.8918\n",
            "Epoch 4/10\n",
            "48000/48000 [==============================] - 36s 755us/step - loss: 0.2473 - acc: 0.9072 - val_loss: 0.3001 - val_acc: 0.8904\n",
            "Epoch 5/10\n",
            "48000/48000 [==============================] - 36s 755us/step - loss: 0.2229 - acc: 0.9170 - val_loss: 0.2650 - val_acc: 0.9038\n",
            "Epoch 6/10\n",
            "48000/48000 [==============================] - 36s 757us/step - loss: 0.2002 - acc: 0.9251 - val_loss: 0.2663 - val_acc: 0.9032\n",
            "Epoch 7/10\n",
            "48000/48000 [==============================] - 36s 758us/step - loss: 0.1797 - acc: 0.9327 - val_loss: 0.2749 - val_acc: 0.9022\n",
            "Epoch 8/10\n",
            "48000/48000 [==============================] - 36s 759us/step - loss: 0.1617 - acc: 0.9397 - val_loss: 0.2607 - val_acc: 0.9102\n",
            "Epoch 9/10\n",
            "48000/48000 [==============================] - 38s 787us/step - loss: 0.1445 - acc: 0.9471 - val_loss: 0.2716 - val_acc: 0.9068\n",
            "Epoch 10/10\n",
            "48000/48000 [==============================] - 46s 953us/step - loss: 0.1296 - acc: 0.9509 - val_loss: 0.2687 - val_acc: 0.9163\n"
          ],
          "name": "stdout"
        }
      ]
    },
    {
      "metadata": {
        "id": "c-G9BFO6552w",
        "colab_type": "code",
        "colab": {},
        "outputId": "4ccd919e-2de5-4642-8ba3-4d73358106d3"
      },
      "cell_type": "code",
      "source": [
        "score = model.evaluate(x_test, y_test, verbose = 0)\n",
        "print(\"Test loss:\", score[0])\n",
        "print(\"Test accuracy:\", score[1])"
      ],
      "execution_count": 0,
      "outputs": [
        {
          "output_type": "stream",
          "text": [
            "Test loss: 0.2765565358430147\n",
            "Test accuracy: 0.9097\n"
          ],
          "name": "stdout"
        }
      ]
    },
    {
      "metadata": {
        "id": "FsMVuk-D5520",
        "colab_type": "text"
      },
      "cell_type": "markdown",
      "source": [
        "Training accuracy is $95.09\\%$. Validation accuracy is $91.63\\%$. Test accuracy is $90.97\\%$."
      ]
    },
    {
      "metadata": {
        "id": "orm8pzjQ5521",
        "colab_type": "text"
      },
      "cell_type": "markdown",
      "source": [
        "## Transfer Learning"
      ]
    },
    {
      "metadata": {
        "id": "U8weM0M_5521",
        "colab_type": "code",
        "colab": {}
      },
      "cell_type": "code",
      "source": [
        "x_train = np.asarray([cv2.resize(x, (32,32)) for x in x_train])\n",
        "x_valid = np.asarray([cv2.resize(x, (32,32)) for x in x_valid])\n",
        "x_test = np.asarray([cv2.resize(x, (32,32)) for x in x_test])\n",
        "x_train = x_train.reshape(x_train.shape[0], 32, 32, 1)\n",
        "x_valid = x_valid.reshape(x_valid.shape[0], 32, 32, 1)\n",
        "x_test = x_test.reshape(x_test.shape[0], 32, 32, 1)\n",
        "x_train = x_train.repeat(3, axis = -1)\n",
        "x_valid = x_valid.repeat(3, axis = -1)\n",
        "x_test = x_test.repeat(3, axis = -1)"
      ],
      "execution_count": 0,
      "outputs": []
    },
    {
      "metadata": {
        "id": "P56jYOEi5523",
        "colab_type": "code",
        "colab": {
          "base_uri": "https://localhost:8080/",
          "height": 90
        },
        "outputId": "558eb192-4f9e-4471-e5e3-5dddd0bff37a"
      },
      "cell_type": "code",
      "source": [
        "conv_base = VGG16(weights = \"imagenet\", include_top = False, input_shape = (32, 32, 3))\n",
        "model_tl = Sequential()\n",
        "model_tl.add(conv_base)\n",
        "model_tl.add(Flatten())\n",
        "model_tl.add(Dense(512, activation = \"relu\"))\n",
        "model_tl.add(Dense(num_classes, activation = \"softmax\"))\n",
        "conv_base.trainable = False\n",
        "model_tl.trainable_weights"
      ],
      "execution_count": 4,
      "outputs": [
        {
          "output_type": "execute_result",
          "data": {
            "text/plain": [
              "[<tf.Variable 'dense_1/kernel:0' shape=(512, 512) dtype=float32_ref>,\n",
              " <tf.Variable 'dense_1/bias:0' shape=(512,) dtype=float32_ref>,\n",
              " <tf.Variable 'dense_2/kernel:0' shape=(512, 10) dtype=float32_ref>,\n",
              " <tf.Variable 'dense_2/bias:0' shape=(10,) dtype=float32_ref>]"
            ]
          },
          "metadata": {
            "tags": []
          },
          "execution_count": 4
        }
      ]
    },
    {
      "metadata": {
        "id": "rPc6UF3Z5526",
        "colab_type": "code",
        "colab": {
          "base_uri": "https://localhost:8080/",
          "height": 293
        },
        "outputId": "3b9d3bf8-b810-4783-f950-586ec19233c7"
      },
      "cell_type": "code",
      "source": [
        "model_tl.summary()"
      ],
      "execution_count": 5,
      "outputs": [
        {
          "output_type": "stream",
          "text": [
            "_________________________________________________________________\n",
            "Layer (type)                 Output Shape              Param #   \n",
            "=================================================================\n",
            "vgg16 (Model)                (None, 1, 1, 512)         14714688  \n",
            "_________________________________________________________________\n",
            "flatten_1 (Flatten)          (None, 512)               0         \n",
            "_________________________________________________________________\n",
            "dense_1 (Dense)              (None, 512)               262656    \n",
            "_________________________________________________________________\n",
            "dense_2 (Dense)              (None, 10)                5130      \n",
            "=================================================================\n",
            "Total params: 14,982,474\n",
            "Trainable params: 267,786\n",
            "Non-trainable params: 14,714,688\n",
            "_________________________________________________________________\n"
          ],
          "name": "stdout"
        }
      ]
    },
    {
      "metadata": {
        "id": "MZ5OLWo65528",
        "colab_type": "code",
        "colab": {}
      },
      "cell_type": "code",
      "source": [
        "model_tl.compile(loss = \"categorical_crossentropy\", optimizer = \"adam\", metrics = [\"acc\"])"
      ],
      "execution_count": 0,
      "outputs": []
    },
    {
      "metadata": {
        "id": "a_PtdiJm552-",
        "colab_type": "code",
        "colab": {
          "base_uri": "https://localhost:8080/",
          "height": 422
        },
        "outputId": "b8f78ecb-d337-4993-e0d4-0288a06e2fe1"
      },
      "cell_type": "code",
      "source": [
        "model_tl.fit(x_train, y_train, batch_size = batch_size, epochs = 10, validation_data = (x_valid, y_valid))"
      ],
      "execution_count": 7,
      "outputs": [
        {
          "output_type": "stream",
          "text": [
            "Train on 48000 samples, validate on 12000 samples\n",
            "Epoch 1/10\n",
            "48000/48000 [==============================] - 675s 14ms/step - loss: 0.5418 - acc: 0.8072 - val_loss: 0.4400 - val_acc: 0.8431\n",
            "Epoch 2/10\n",
            "48000/48000 [==============================] - 675s 14ms/step - loss: 0.4062 - acc: 0.8498 - val_loss: 0.4236 - val_acc: 0.8492\n",
            "Epoch 3/10\n",
            "48000/48000 [==============================] - 671s 14ms/step - loss: 0.3710 - acc: 0.8620 - val_loss: 0.3956 - val_acc: 0.8566\n",
            "Epoch 4/10\n",
            "48000/48000 [==============================] - 671s 14ms/step - loss: 0.3500 - acc: 0.8688 - val_loss: 0.4082 - val_acc: 0.8506\n",
            "Epoch 5/10\n",
            "48000/48000 [==============================] - 671s 14ms/step - loss: 0.3268 - acc: 0.8780 - val_loss: 0.3781 - val_acc: 0.8643\n",
            "Epoch 6/10\n",
            "48000/48000 [==============================] - 674s 14ms/step - loss: 0.3102 - acc: 0.8837 - val_loss: 0.3629 - val_acc: 0.8688\n",
            "Epoch 7/10\n",
            "48000/48000 [==============================] - 676s 14ms/step - loss: 0.2976 - acc: 0.8895 - val_loss: 0.3807 - val_acc: 0.8666\n",
            "Epoch 8/10\n",
            "48000/48000 [==============================] - 677s 14ms/step - loss: 0.2820 - acc: 0.8937 - val_loss: 0.3580 - val_acc: 0.8737\n",
            "Epoch 9/10\n",
            "48000/48000 [==============================] - 677s 14ms/step - loss: 0.2717 - acc: 0.8982 - val_loss: 0.3647 - val_acc: 0.8714\n",
            "Epoch 10/10\n",
            "48000/48000 [==============================] - 677s 14ms/step - loss: 0.2575 - acc: 0.9028 - val_loss: 0.3761 - val_acc: 0.8673\n"
          ],
          "name": "stdout"
        },
        {
          "output_type": "execute_result",
          "data": {
            "text/plain": [
              "<keras.callbacks.History at 0x7f8b258312b0>"
            ]
          },
          "metadata": {
            "tags": []
          },
          "execution_count": 7
        }
      ]
    },
    {
      "metadata": {
        "id": "l8Uy3veynYM1",
        "colab_type": "code",
        "colab": {
          "base_uri": "https://localhost:8080/",
          "height": 54
        },
        "outputId": "3019d80d-979f-453e-8ce5-48dc76156894"
      },
      "cell_type": "code",
      "source": [
        "score_tl = model_tl.evaluate(x_test, y_test, verbose = 0)\n",
        "print(\"Test loss:\", score_tl[0])\n",
        "print(\"Test accuracy:\", score_tl[1])"
      ],
      "execution_count": 8,
      "outputs": [
        {
          "output_type": "stream",
          "text": [
            "Test loss: 0.3805254009723663\n",
            "Test accuracy: 0.8668\n"
          ],
          "name": "stdout"
        }
      ]
    },
    {
      "metadata": {
        "collapsed": true,
        "id": "RY1rvdRJ553C",
        "colab_type": "text"
      },
      "cell_type": "markdown",
      "source": [
        "# Text Classification"
      ]
    },
    {
      "metadata": {
        "id": "A-FSqVKL553D",
        "colab_type": "text"
      },
      "cell_type": "markdown",
      "source": [
        "## RNN"
      ]
    },
    {
      "metadata": {
        "id": "Fh6oN_x4553D",
        "colab_type": "text"
      },
      "cell_type": "markdown",
      "source": [
        "Here we use Gated Recurrent Unit (GRU) in our RNN."
      ]
    },
    {
      "metadata": {
        "id": "hlsDgP7I553E",
        "colab_type": "code",
        "colab": {},
        "outputId": "867426fe-e428-4132-b32b-988d6e112c56"
      },
      "cell_type": "code",
      "source": [
        "url_b = requests.get(\"https://s3.amazonaws.com/anly-590/url-classification/benign-urls.txt\").text.split(\"\\n\")\n",
        "url_m = requests.get(\"https://s3.amazonaws.com/anly-590/url-classification/malicious-urls.txt\").text.split(\"\\n\")\n",
        "url_b = [x for x in url_b if x[0] != \"#\"]\n",
        "X_train = np.asarray(url_b + url_m)\n",
        "Y_train = np.concatenate((np.ones(len(url_b)), np.zeros(len(url_m))))\n",
        "print(len(url_b))\n",
        "print(len(url_m))\n",
        "tokenizer = Tokenizer(char_level = True)\n",
        "tokenizer.fit_on_texts(X_train)\n",
        "X_train = tokenizer.texts_to_matrix(X_train, mode = \"count\")\n",
        "print(X_train.shape)\n",
        "maxlen = X_train.shape[1]"
      ],
      "execution_count": 0,
      "outputs": [
        {
          "output_type": "stream",
          "text": [
            "66015\n",
            "1297\n",
            "(67312, 42)\n"
          ],
          "name": "stdout"
        }
      ]
    },
    {
      "metadata": {
        "id": "lRUht0tG553H",
        "colab_type": "code",
        "colab": {}
      },
      "cell_type": "code",
      "source": [
        "X_train, X_test, Y_train, Y_test = train_test_split(X_train, Y_train, test_size = 0.5, random_state = 9921)"
      ],
      "execution_count": 0,
      "outputs": []
    },
    {
      "metadata": {
        "id": "h9x3h7UF553K",
        "colab_type": "code",
        "colab": {}
      },
      "cell_type": "code",
      "source": [
        "model_text_rnn = Sequential()\n",
        "model_text_rnn.add(Embedding(input_dim = 100, output_dim = 32, input_length = maxlen))\n",
        "model_text_rnn.add(GRU(32))\n",
        "model_text_rnn.add(Dense(1, activation = \"sigmoid\"))\n",
        "model_text_rnn.compile(optimizer = \"adam\", loss = \"binary_crossentropy\", metrics = [\"acc\"])"
      ],
      "execution_count": 0,
      "outputs": []
    },
    {
      "metadata": {
        "id": "JLWZIUah553M",
        "colab_type": "code",
        "colab": {},
        "outputId": "2fc157ce-1a0f-41a4-e232-dd985ca4e286"
      },
      "cell_type": "code",
      "source": [
        "model_text_rnn.fit(X_train, Y_train, epochs = 10, batch_size = 64, validation_data = (X_test, Y_test), verbose = 1)"
      ],
      "execution_count": 0,
      "outputs": [
        {
          "output_type": "stream",
          "text": [
            "Train on 33656 samples, validate on 33656 samples\n",
            "Epoch 1/10\n",
            "33656/33656 [==============================] - 13s 380us/step - loss: 0.1169 - acc: 0.9808 - val_loss: 0.0682 - val_acc: 0.9806\n",
            "Epoch 2/10\n",
            "33656/33656 [==============================] - 11s 335us/step - loss: 0.0584 - acc: 0.9808 - val_loss: 0.0564 - val_acc: 0.9806\n",
            "Epoch 3/10\n",
            "33656/33656 [==============================] - 10s 302us/step - loss: 0.0571 - acc: 0.9808 - val_loss: 0.0567 - val_acc: 0.9806\n",
            "Epoch 4/10\n",
            "33656/33656 [==============================] - 10s 308us/step - loss: 0.0571 - acc: 0.9808 - val_loss: 0.0567 - val_acc: 0.9806\n",
            "Epoch 5/10\n",
            "33656/33656 [==============================] - 10s 306us/step - loss: 0.0567 - acc: 0.9808 - val_loss: 0.0555 - val_acc: 0.9806\n",
            "Epoch 6/10\n",
            "33656/33656 [==============================] - 10s 309us/step - loss: 0.0560 - acc: 0.9808 - val_loss: 0.0557 - val_acc: 0.9806\n",
            "Epoch 7/10\n",
            "33656/33656 [==============================] - 11s 313us/step - loss: 0.0561 - acc: 0.9808 - val_loss: 0.0551 - val_acc: 0.9806\n",
            "Epoch 8/10\n",
            "33656/33656 [==============================] - 10s 308us/step - loss: 0.0541 - acc: 0.9808 - val_loss: 0.0539 - val_acc: 0.9806\n",
            "Epoch 9/10\n",
            "33656/33656 [==============================] - 10s 311us/step - loss: 0.0533 - acc: 0.9808 - val_loss: 0.0517 - val_acc: 0.9805\n",
            "Epoch 10/10\n",
            "33656/33656 [==============================] - 11s 312us/step - loss: 0.0532 - acc: 0.9809 - val_loss: 0.0541 - val_acc: 0.9807\n"
          ],
          "name": "stdout"
        },
        {
          "output_type": "execute_result",
          "data": {
            "text/plain": [
              "<keras.callbacks.History at 0x1990c198cf8>"
            ]
          },
          "metadata": {
            "tags": []
          },
          "execution_count": 20
        }
      ]
    },
    {
      "metadata": {
        "id": "1LGf12ta553O",
        "colab_type": "code",
        "colab": {},
        "outputId": "1605bc24-6ba0-49b6-c2cb-bbab5210cf98"
      },
      "cell_type": "code",
      "source": [
        "score_rnn = model_text_rnn.evaluate(X_test, Y_test, verbose = 0)\n",
        "print(\"Test loss:\", score_rnn[0])\n",
        "print(\"Test accuracy:\", score_rnn[1])"
      ],
      "execution_count": 0,
      "outputs": [
        {
          "output_type": "stream",
          "text": [
            "Test loss: 0.054143391998258045\n",
            "Test accuracy: 0.9807463750891372\n"
          ],
          "name": "stdout"
        }
      ]
    },
    {
      "metadata": {
        "id": "ReyuRLhc553Q",
        "colab_type": "text"
      },
      "cell_type": "markdown",
      "source": [
        "## CNN"
      ]
    },
    {
      "metadata": {
        "id": "J3fjWcN3553R",
        "colab_type": "code",
        "colab": {}
      },
      "cell_type": "code",
      "source": [
        "model_text_cnn = Sequential()\n",
        "model_text_cnn.add(Embedding(input_dim = 100, output_dim = 32, input_length = maxlen))\n",
        "model_text_cnn.add(Conv1D(256, 3, activation = \"relu\"))\n",
        "model_text_cnn.add(MaxPooling1D(3))\n",
        "model_text_cnn.add(Flatten())\n",
        "model_text_cnn.add(Dense(256, activation = \"relu\"))\n",
        "model_text_cnn.add(Dense(1, activation = \"sigmoid\"))\n",
        "model_text_cnn.compile(loss = \"binary_crossentropy\", optimizer = \"adam\", metrics = [\"acc\"])"
      ],
      "execution_count": 0,
      "outputs": []
    },
    {
      "metadata": {
        "id": "DYwAqueK553T",
        "colab_type": "code",
        "colab": {},
        "outputId": "3028bf58-cb61-4cfa-f234-d1ae3be6d28f"
      },
      "cell_type": "code",
      "source": [
        "model_text_cnn.fit(X_train, Y_train, batch_size = 64, epochs = 10, validation_data = (X_test, Y_test))"
      ],
      "execution_count": 0,
      "outputs": [
        {
          "output_type": "stream",
          "text": [
            "Train on 33656 samples, validate on 33656 samples\n",
            "Epoch 1/10\n",
            "33656/33656 [==============================] - 21s 633us/step - loss: 0.0609 - acc: 0.9798 - val_loss: 0.0399 - val_acc: 0.9843\n",
            "Epoch 2/10\n",
            "33656/33656 [==============================] - 20s 606us/step - loss: 0.0359 - acc: 0.9856 - val_loss: 0.0360 - val_acc: 0.9847\n",
            "Epoch 3/10\n",
            "33656/33656 [==============================] - 21s 614us/step - loss: 0.0332 - acc: 0.9867 - val_loss: 0.0340 - val_acc: 0.9857\n",
            "Epoch 4/10\n",
            "33656/33656 [==============================] - 21s 615us/step - loss: 0.0308 - acc: 0.9875 - val_loss: 0.0325 - val_acc: 0.9859\n",
            "Epoch 5/10\n",
            "33656/33656 [==============================] - 21s 629us/step - loss: 0.0294 - acc: 0.9886 - val_loss: 0.0337 - val_acc: 0.9852\n",
            "Epoch 6/10\n",
            "33656/33656 [==============================] - 21s 620us/step - loss: 0.0274 - acc: 0.9888 - val_loss: 0.0324 - val_acc: 0.9865\n",
            "Epoch 7/10\n",
            "33656/33656 [==============================] - 21s 617us/step - loss: 0.0257 - acc: 0.9890 - val_loss: 0.0352 - val_acc: 0.9860\n",
            "Epoch 8/10\n",
            "33656/33656 [==============================] - 21s 615us/step - loss: 0.0242 - acc: 0.9903 - val_loss: 0.0313 - val_acc: 0.9867\n",
            "Epoch 9/10\n",
            "33656/33656 [==============================] - 21s 621us/step - loss: 0.0219 - acc: 0.9911 - val_loss: 0.0342 - val_acc: 0.9856\n",
            "Epoch 10/10\n",
            "33656/33656 [==============================] - 21s 621us/step - loss: 0.0209 - acc: 0.9917 - val_loss: 0.0405 - val_acc: 0.9847\n"
          ],
          "name": "stdout"
        },
        {
          "output_type": "execute_result",
          "data": {
            "text/plain": [
              "<keras.callbacks.History at 0x1990c198ac8>"
            ]
          },
          "metadata": {
            "tags": []
          },
          "execution_count": 23
        }
      ]
    },
    {
      "metadata": {
        "id": "QFf96VcZ553V",
        "colab_type": "code",
        "colab": {},
        "outputId": "09a02758-a25e-4947-96c3-e59bc7d45fe5"
      },
      "cell_type": "code",
      "source": [
        "score_cnn = model_text_cnn.evaluate(X_test, Y_test, verbose = 0)\n",
        "print(\"Test loss:\", score_cnn[0])\n",
        "print(\"Test accuracy:\", score_cnn[1])"
      ],
      "execution_count": 0,
      "outputs": [
        {
          "output_type": "stream",
          "text": [
            "Test loss: 0.04054971090232607\n",
            "Test accuracy: 0.9847278345614452\n"
          ],
          "name": "stdout"
        }
      ]
    },
    {
      "metadata": {
        "id": "mNCgaQA0553Y",
        "colab_type": "text"
      },
      "cell_type": "markdown",
      "source": [
        "## Compare RNN & CNN"
      ]
    },
    {
      "metadata": {
        "id": "9UqHUClR553Z",
        "colab_type": "code",
        "colab": {}
      },
      "cell_type": "code",
      "source": [
        "Y_rnn = model_text_rnn.predict(X_test).ravel()\n",
        "Y_cnn = model_text_cnn.predict(X_test).ravel()\n",
        "fpr_r, tpr_r, thresholds_r = roc_curve(Y_test, Y_rnn)\n",
        "auc_r = auc(fpr_r, tpr_r)\n",
        "fpr_c, tpr_c, thresholds_c = roc_curve(Y_test, Y_cnn)\n",
        "auc_c = auc(fpr_c, tpr_c)"
      ],
      "execution_count": 0,
      "outputs": []
    },
    {
      "metadata": {
        "id": "8D74ndnx553b",
        "colab_type": "code",
        "colab": {},
        "outputId": "4338289d-2c5f-49af-b9a2-658403d68d14"
      },
      "cell_type": "code",
      "source": [
        "plt.figure(1)\n",
        "plt.plot(fpr_r, tpr_r, label='RNN (area = {:.3f})'.format(auc_r))\n",
        "plt.plot(fpr_c, tpr_c, label='CNN (area = {:.3f})'.format(auc_c))\n",
        "plt.xlabel('False positive rate')\n",
        "plt.ylabel('True positive rate')\n",
        "plt.title('ROC curve')\n",
        "plt.legend()\n",
        "plt.show()"
      ],
      "execution_count": 0,
      "outputs": [
        {
          "output_type": "display_data",
          "data": {
            "image/png": "[encoded data removed]",
            "text/plain": [
              "<Figure size 432x288 with 1 Axes>"
            ]
          },
          "metadata": {
            "tags": []
          }
        }
      ]
    }
  ]
}